{
    "cells": [
        {
            "cell_type": "markdown",
            "metadata": {},
            "source": "# Intoduction"
        },
        {
            "cell_type": "markdown",
            "metadata": {},
            "source": "   Paris is the capital and most populous city of France, with an estimated population of 2,175,601 residents as of 2018, in an area of more than 105 square kilometres (41 square miles). Paris has been one of Europe's major centres of finance, diplomacy, commerce, fashion, gastronomy, science, and arts. \n   The Paris Region had a GDP of \u20ac709 billion ($808 billion) in 2017. According to the Economist Intelligence Unit Worldwide Cost of Living Survey in 2018, Paris was the second most expensive city in the world, after Singapore and ahead of Z\u00fcrich, Hong Kong, Oslo, and Geneva. Paris received 38 million visitors in 2019, measured by hotel stays, with the largest numbers of foreign visitors coming from the United States, the United Kingdom, Germany, and China. It was ranked as the second-most-visited travel destination in the world in 2019, after Bangkok and just ahead of London.\n   The football club Paris Saint-Germain and the rugby union club Stade Fran\u00e7ais are based in Paris. The 80,000-seat Stade de France, built for the 1998 FIFA World Cup, is located just north of Paris in the neighbouring commune of Saint-Denis. Paris hosts the annual French Open Grand Slam tennis tournament on the red clay of Roland Garros. The city hosted the Olympic Games in 1900, 1924 and will host the 2024 Summer Olympics. The 1938 and 1998 FIFA World Cups."
        },
        {
            "cell_type": "markdown",
            "metadata": {},
            "source": "# Business Problem"
        },
        {
            "cell_type": "markdown",
            "metadata": {},
            "source": "**To find the best place in Paris to open a French restaurant.**  \n    Paris is already a restaurant saturated city. But our task is to find the best place for opening a restaurant."
        },
        {
            "cell_type": "markdown",
            "metadata": {},
            "source": "# Audience"
        },
        {
            "cell_type": "markdown",
            "metadata": {},
            "source": "All the business-minded people who wants to open a French restuarant in Paris."
        },
        {
            "cell_type": "markdown",
            "metadata": {},
            "source": "# Data"
        },
        {
            "cell_type": "markdown",
            "metadata": {},
            "source": "For opening a restaurant, it is best to open it in as near to the city centre as possible.  So, a 6km (6000m) radius from the city centre is taken into consideration such that the **restaurant will be placed in the areas within the 6km range from the centre**.  \nFor obtaining the address of areas within the range, reverse geocoding is used as -  \n```\n   from geopy.geocoders import Nominatim\n   locator = Nominatim(user_agent='myGeocoder')\n   coordinates = str(lat)+', '+str(lon)\n   loction = locator.reverse(coordinates)\n   return loction.address\n```\nFor obtaining the details of restaurant venues in Paris, **Foursquare API** is used."
        },
        {
            "cell_type": "code",
            "execution_count": null,
            "metadata": {},
            "outputs": [],
            "source": ""
        }
    ],
    "metadata": {
        "kernelspec": {
            "display_name": "Python 3.8",
            "language": "python",
            "name": "python3"
        },
        "language_info": {
            "codemirror_mode": {
                "name": "ipython",
                "version": 3
            },
            "file_extension": ".py",
            "mimetype": "text/x-python",
            "name": "python",
            "nbconvert_exporter": "python",
            "pygments_lexer": "ipython3",
            "version": "3.8.10"
        }
    },
    "nbformat": 4,
    "nbformat_minor": 2
}